{
  "nbformat": 4,
  "nbformat_minor": 0,
  "metadata": {
    "colab": {
      "provenance": []
    },
    "kernelspec": {
      "name": "python3",
      "display_name": "Python 3"
    },
    "language_info": {
      "name": "python"
    }
  },
  "cells": [
    {
      "cell_type": "code",
      "execution_count": null,
      "metadata": {
        "id": "CV4Y6b5uHcUz"
      },
      "outputs": [],
      "source": [
        "import pandas as pd\n",
        "import numpy as np\n",
        "from sklearn.model_selection import train_test_split\n",
        "from sklearn.pipeline import Pipeline\n",
        "from sklearn.feature_extraction.text import CountVectorizer, TfidfVectorizer\n",
        "from sklearn.naive_bayes import MultinomialNB\n",
        "from sklearn.linear_model import LogisticRegression\n",
        "from sklearn.metrics import accuracy_score, classification_report, confusion_matrix"
      ]
    },
    {
      "cell_type": "code",
      "source": [],
      "metadata": {
        "id": "gJ8qqT_id97D"
      },
      "execution_count": null,
      "outputs": []
    },
    {
      "cell_type": "code",
      "source": [
        "def parse_train_dataset(train_file_path):\n",
        "    data = []\n",
        "    with open(train_file_path, 'r', encoding='utf-8') as file:\n",
        "        for line in file:\n",
        "            parts = line.strip().split(':::')\n",
        "            if len(parts) == 4:\n",
        "                data.append({\n",
        "                    'Index': parts[0].strip(),\n",
        "                    'Title': parts[1].strip(),\n",
        "                    'Genre': parts[2].strip(),\n",
        "                    'Plot': parts[3].strip()\n",
        "                })\n",
        "    return pd.DataFrame(data)\n",
        "\n",
        "# Specify file path for training data\n",
        "train_file_path = '/content/train_data.txt'\n",
        "\n",
        "# Parse the training dataset\n",
        "df_train = parse_train_dataset(train_file_path)\n",
        "\n",
        "# Display the first few rows of df_train\n",
        "print(\"Train Dataset:\")\n",
        "print(df_train.head())"
      ],
      "metadata": {
        "colab": {
          "base_uri": "https://localhost:8080/"
        },
        "id": "gh6nxnndS9Me",
        "outputId": "1816368f-b922-4ffc-a5d2-1bd8f4f710b4"
      },
      "execution_count": null,
      "outputs": [
        {
          "output_type": "stream",
          "name": "stdout",
          "text": [
            "Train Dataset:\n",
            "  Index                             Title     Genre  \\\n",
            "0     1      Oscar et la dame rose (2009)     drama   \n",
            "1     2                      Cupid (1997)  thriller   \n",
            "2     3  Young, Wild and Wonderful (1980)     adult   \n",
            "3     4             The Secret Sin (1915)     drama   \n",
            "4     5            The Unrecovered (2007)     drama   \n",
            "\n",
            "                                                Plot  \n",
            "0  Listening in to a conversation between his doc...  \n",
            "1  A brother and sister with a past incestuous re...  \n",
            "2  As the bus empties the students for their fiel...  \n",
            "3  To help their unemployed father make ends meet...  \n",
            "4  The film's title refers not only to the un-rec...  \n"
          ]
        }
      ]
    },
    {
      "cell_type": "code",
      "source": [
        "def parse_test_dataset(test_file_path):\n",
        "    data = []\n",
        "    with open(test_file_path, 'r', encoding='utf-8') as file:\n",
        "        for line in file:\n",
        "            parts = line.strip().split(':::')\n",
        "            if len(parts) == 3:\n",
        "                data.append({\n",
        "                    'Index': parts[0].strip(),\n",
        "                    'Title': parts[1].strip(),\n",
        "                    'Plot': parts[2].strip(),\n",
        "                    'Genre': ''  # Empty column for Genre in test data\n",
        "                })\n",
        "    return pd.DataFrame(data)\n",
        "\n",
        "# Specify file path for testing data\n",
        "test_file_path = '/content/test_data.txt'\n",
        "\n",
        "# Parse the testing dataset\n",
        "df_test = parse_test_dataset(test_file_path)\n",
        "# Display the first few rows of df_test\n",
        "print(\"\\nTest Dataset:\")\n",
        "print(df_test.head())"
      ],
      "metadata": {
        "colab": {
          "base_uri": "https://localhost:8080/"
        },
        "id": "XP_8GJDBTDfp",
        "outputId": "196c49df-8947-4687-88bd-7fd4a548b445"
      },
      "execution_count": null,
      "outputs": [
        {
          "output_type": "stream",
          "name": "stdout",
          "text": [
            "\n",
            "Test Dataset:\n",
            "  Index                        Title  \\\n",
            "0     1         Edgar's Lunch (1998)   \n",
            "1     2     La guerra de papá (1977)   \n",
            "2     3  Off the Beaten Track (2010)   \n",
            "3     4       Meu Amigo Hindu (2015)   \n",
            "4     5            Er nu zhai (1955)   \n",
            "\n",
            "                                                Plot Genre  \n",
            "0  L.R. Brane loves his life - his car, his apart...        \n",
            "1  Spain, March 1964: Quico is a very naughty chi...        \n",
            "2  One year in the life of Albin and his family o...        \n",
            "3  His father has died, he hasn't spoken with his...        \n",
            "4  Before he was known internationally as a marti...        \n"
          ]
        }
      ]
    },
    {
      "cell_type": "code",
      "source": [
        " df_train = df_train.dropna(subset=['Title', 'Genre', 'Plot'])\n",
        "df_test = df_test.dropna(subset=['Index', 'Plot'])"
      ],
      "metadata": {
        "id": "4KIiIMibMRH9"
      },
      "execution_count": null,
      "outputs": []
    },
    {
      "cell_type": "code",
      "source": [
        "df_train['Plot'] = df_train['Plot'].str.lower()\n",
        "df_test['Plot'] = df_test['Plot'].str.lower()"
      ],
      "metadata": {
        "id": "AbtEZD71Mae7"
      },
      "execution_count": null,
      "outputs": []
    },
    {
      "cell_type": "code",
      "source": [
        "X_train, X_val, y_train, y_val = train_test_split(df_train['Plot'], df_train['Genre'], test_size=0.2, random_state=42)"
      ],
      "metadata": {
        "id": "FjV81rMwM8YY"
      },
      "execution_count": null,
      "outputs": []
    },
    {
      "cell_type": "code",
      "source": [
        "pipeline_nb = Pipeline([\n",
        "    ('tfidf', TfidfVectorizer(max_features=5000)),  # Using TF-IDF for feature extraction\n",
        "    ('clf', MultinomialNB()),  # Using Naive Bayes classifier\n",
        "])"
      ],
      "metadata": {
        "id": "OfNK-l9LOfAB"
      },
      "execution_count": null,
      "outputs": []
    },
    {
      "cell_type": "code",
      "source": [
        "pipeline_lr = Pipeline([\n",
        "    ('tfidf', TfidfVectorizer(max_features=5000)),  # Using TF-IDF for feature extraction\n",
        "    ('clf', LogisticRegression(max_iter=1000)),  # Using Logistic Regression classifier\n",
        "])"
      ],
      "metadata": {
        "id": "0w_kNnIxOfWa"
      },
      "execution_count": null,
      "outputs": []
    },
    {
      "cell_type": "code",
      "source": [
        "X_train = df_train['Plot']\n",
        "y_train = df_train['Genre']\n",
        "pipeline_nb.fit(X_train, y_train)\n",
        "pipeline_lr.fit(X_train, y_train)"
      ],
      "metadata": {
        "colab": {
          "base_uri": "https://localhost:8080/",
          "height": 124
        },
        "id": "Jmm5xUXvRBao",
        "outputId": "ddeafbf8-f914-4a50-f4c4-e85fa0b4b3f3"
      },
      "execution_count": null,
      "outputs": [
        {
          "output_type": "execute_result",
          "data": {
            "text/plain": [
              "Pipeline(steps=[('tfidf', TfidfVectorizer(max_features=5000)),\n",
              "                ('clf', LogisticRegression(max_iter=1000))])"
            ],
            "text/html": [
              "<style>#sk-container-id-4 {color: black;background-color: white;}#sk-container-id-4 pre{padding: 0;}#sk-container-id-4 div.sk-toggleable {background-color: white;}#sk-container-id-4 label.sk-toggleable__label {cursor: pointer;display: block;width: 100%;margin-bottom: 0;padding: 0.3em;box-sizing: border-box;text-align: center;}#sk-container-id-4 label.sk-toggleable__label-arrow:before {content: \"▸\";float: left;margin-right: 0.25em;color: #696969;}#sk-container-id-4 label.sk-toggleable__label-arrow:hover:before {color: black;}#sk-container-id-4 div.sk-estimator:hover label.sk-toggleable__label-arrow:before {color: black;}#sk-container-id-4 div.sk-toggleable__content {max-height: 0;max-width: 0;overflow: hidden;text-align: left;background-color: #f0f8ff;}#sk-container-id-4 div.sk-toggleable__content pre {margin: 0.2em;color: black;border-radius: 0.25em;background-color: #f0f8ff;}#sk-container-id-4 input.sk-toggleable__control:checked~div.sk-toggleable__content {max-height: 200px;max-width: 100%;overflow: auto;}#sk-container-id-4 input.sk-toggleable__control:checked~label.sk-toggleable__label-arrow:before {content: \"▾\";}#sk-container-id-4 div.sk-estimator input.sk-toggleable__control:checked~label.sk-toggleable__label {background-color: #d4ebff;}#sk-container-id-4 div.sk-label input.sk-toggleable__control:checked~label.sk-toggleable__label {background-color: #d4ebff;}#sk-container-id-4 input.sk-hidden--visually {border: 0;clip: rect(1px 1px 1px 1px);clip: rect(1px, 1px, 1px, 1px);height: 1px;margin: -1px;overflow: hidden;padding: 0;position: absolute;width: 1px;}#sk-container-id-4 div.sk-estimator {font-family: monospace;background-color: #f0f8ff;border: 1px dotted black;border-radius: 0.25em;box-sizing: border-box;margin-bottom: 0.5em;}#sk-container-id-4 div.sk-estimator:hover {background-color: #d4ebff;}#sk-container-id-4 div.sk-parallel-item::after {content: \"\";width: 100%;border-bottom: 1px solid gray;flex-grow: 1;}#sk-container-id-4 div.sk-label:hover label.sk-toggleable__label {background-color: #d4ebff;}#sk-container-id-4 div.sk-serial::before {content: \"\";position: absolute;border-left: 1px solid gray;box-sizing: border-box;top: 0;bottom: 0;left: 50%;z-index: 0;}#sk-container-id-4 div.sk-serial {display: flex;flex-direction: column;align-items: center;background-color: white;padding-right: 0.2em;padding-left: 0.2em;position: relative;}#sk-container-id-4 div.sk-item {position: relative;z-index: 1;}#sk-container-id-4 div.sk-parallel {display: flex;align-items: stretch;justify-content: center;background-color: white;position: relative;}#sk-container-id-4 div.sk-item::before, #sk-container-id-4 div.sk-parallel-item::before {content: \"\";position: absolute;border-left: 1px solid gray;box-sizing: border-box;top: 0;bottom: 0;left: 50%;z-index: -1;}#sk-container-id-4 div.sk-parallel-item {display: flex;flex-direction: column;z-index: 1;position: relative;background-color: white;}#sk-container-id-4 div.sk-parallel-item:first-child::after {align-self: flex-end;width: 50%;}#sk-container-id-4 div.sk-parallel-item:last-child::after {align-self: flex-start;width: 50%;}#sk-container-id-4 div.sk-parallel-item:only-child::after {width: 0;}#sk-container-id-4 div.sk-dashed-wrapped {border: 1px dashed gray;margin: 0 0.4em 0.5em 0.4em;box-sizing: border-box;padding-bottom: 0.4em;background-color: white;}#sk-container-id-4 div.sk-label label {font-family: monospace;font-weight: bold;display: inline-block;line-height: 1.2em;}#sk-container-id-4 div.sk-label-container {text-align: center;}#sk-container-id-4 div.sk-container {/* jupyter's `normalize.less` sets `[hidden] { display: none; }` but bootstrap.min.css set `[hidden] { display: none !important; }` so we also need the `!important` here to be able to override the default hidden behavior on the sphinx rendered scikit-learn.org. See: https://github.com/scikit-learn/scikit-learn/issues/21755 */display: inline-block !important;position: relative;}#sk-container-id-4 div.sk-text-repr-fallback {display: none;}</style><div id=\"sk-container-id-4\" class=\"sk-top-container\"><div class=\"sk-text-repr-fallback\"><pre>Pipeline(steps=[(&#x27;tfidf&#x27;, TfidfVectorizer(max_features=5000)),\n",
              "                (&#x27;clf&#x27;, LogisticRegression(max_iter=1000))])</pre><b>In a Jupyter environment, please rerun this cell to show the HTML representation or trust the notebook. <br />On GitHub, the HTML representation is unable to render, please try loading this page with nbviewer.org.</b></div><div class=\"sk-container\" hidden><div class=\"sk-item sk-dashed-wrapped\"><div class=\"sk-label-container\"><div class=\"sk-label sk-toggleable\"><input class=\"sk-toggleable__control sk-hidden--visually\" id=\"sk-estimator-id-10\" type=\"checkbox\" ><label for=\"sk-estimator-id-10\" class=\"sk-toggleable__label sk-toggleable__label-arrow\">Pipeline</label><div class=\"sk-toggleable__content\"><pre>Pipeline(steps=[(&#x27;tfidf&#x27;, TfidfVectorizer(max_features=5000)),\n",
              "                (&#x27;clf&#x27;, LogisticRegression(max_iter=1000))])</pre></div></div></div><div class=\"sk-serial\"><div class=\"sk-item\"><div class=\"sk-estimator sk-toggleable\"><input class=\"sk-toggleable__control sk-hidden--visually\" id=\"sk-estimator-id-11\" type=\"checkbox\" ><label for=\"sk-estimator-id-11\" class=\"sk-toggleable__label sk-toggleable__label-arrow\">TfidfVectorizer</label><div class=\"sk-toggleable__content\"><pre>TfidfVectorizer(max_features=5000)</pre></div></div></div><div class=\"sk-item\"><div class=\"sk-estimator sk-toggleable\"><input class=\"sk-toggleable__control sk-hidden--visually\" id=\"sk-estimator-id-12\" type=\"checkbox\" ><label for=\"sk-estimator-id-12\" class=\"sk-toggleable__label sk-toggleable__label-arrow\">LogisticRegression</label><div class=\"sk-toggleable__content\"><pre>LogisticRegression(max_iter=1000)</pre></div></div></div></div></div></div></div>"
            ]
          },
          "metadata": {},
          "execution_count": 44
        }
      ]
    },
    {
      "cell_type": "code",
      "source": [
        "y_pred_nb = pipeline_nb.predict(X_val)\n",
        "y_pred_lr = pipeline_lr.predict(X_val)"
      ],
      "metadata": {
        "id": "uKIw_grwPpKp"
      },
      "execution_count": null,
      "outputs": []
    },
    {
      "cell_type": "code",
      "source": [
        "print(\"Naive Bayes Classification Report:\")\n",
        "print(classification_report(y_val, y_pred_nb))\n",
        "\n",
        "print(\"\\nLogistic Regression Classification Report:\")\n",
        "print(classification_report(y_val, y_pred_lr))"
      ],
      "metadata": {
        "colab": {
          "base_uri": "https://localhost:8080/"
        },
        "id": "9TPRHZnkQE-O",
        "outputId": "87b59646-2b8b-4057-f9f1-3e74673b8c15"
      },
      "execution_count": null,
      "outputs": [
        {
          "output_type": "stream",
          "name": "stdout",
          "text": [
            "Naive Bayes Classification Report:\n"
          ]
        },
        {
          "output_type": "stream",
          "name": "stderr",
          "text": [
            "/usr/local/lib/python3.10/dist-packages/sklearn/metrics/_classification.py:1344: UndefinedMetricWarning: Precision and F-score are ill-defined and being set to 0.0 in labels with no predicted samples. Use `zero_division` parameter to control this behavior.\n",
            "  _warn_prf(average, modifier, msg_start, len(result))\n",
            "/usr/local/lib/python3.10/dist-packages/sklearn/metrics/_classification.py:1344: UndefinedMetricWarning: Precision and F-score are ill-defined and being set to 0.0 in labels with no predicted samples. Use `zero_division` parameter to control this behavior.\n",
            "  _warn_prf(average, modifier, msg_start, len(result))\n",
            "/usr/local/lib/python3.10/dist-packages/sklearn/metrics/_classification.py:1344: UndefinedMetricWarning: Precision and F-score are ill-defined and being set to 0.0 in labels with no predicted samples. Use `zero_division` parameter to control this behavior.\n",
            "  _warn_prf(average, modifier, msg_start, len(result))\n",
            "/usr/local/lib/python3.10/dist-packages/sklearn/metrics/_classification.py:1344: UndefinedMetricWarning: Precision and F-score are ill-defined and being set to 0.0 in labels with no predicted samples. Use `zero_division` parameter to control this behavior.\n",
            "  _warn_prf(average, modifier, msg_start, len(result))\n"
          ]
        },
        {
          "output_type": "stream",
          "name": "stdout",
          "text": [
            "              precision    recall  f1-score   support\n",
            "\n",
            "      action       0.69      0.12      0.20       263\n",
            "       adult       0.78      0.06      0.12       112\n",
            "   adventure       0.56      0.04      0.07       139\n",
            "   animation       0.00      0.00      0.00       104\n",
            "   biography       0.00      0.00      0.00        61\n",
            "      comedy       0.55      0.46      0.50      1443\n",
            "       crime       0.00      0.00      0.00       107\n",
            " documentary       0.58      0.90      0.70      2659\n",
            "       drama       0.47      0.84      0.60      2697\n",
            "      family       1.00      0.01      0.01       150\n",
            "     fantasy       0.00      0.00      0.00        74\n",
            "   game-show       1.00      0.07      0.14        40\n",
            "     history       0.00      0.00      0.00        45\n",
            "      horror       0.78      0.38      0.51       431\n",
            "       music       0.92      0.16      0.27       144\n",
            "     musical       0.00      0.00      0.00        50\n",
            "     mystery       0.00      0.00      0.00        56\n",
            "        news       0.00      0.00      0.00        34\n",
            "  reality-tv       1.00      0.04      0.08       192\n",
            "     romance       0.00      0.00      0.00       151\n",
            "      sci-fi       0.89      0.06      0.11       143\n",
            "       short       0.68      0.11      0.20      1045\n",
            "       sport       0.75      0.10      0.17        93\n",
            "   talk-show       0.00      0.00      0.00        81\n",
            "    thriller       0.54      0.02      0.04       309\n",
            "         war       0.00      0.00      0.00        20\n",
            "     western       0.98      0.59      0.74       200\n",
            "\n",
            "    accuracy                           0.54     10843\n",
            "   macro avg       0.45      0.15      0.17     10843\n",
            "weighted avg       0.56      0.54      0.46     10843\n",
            "\n",
            "\n",
            "Logistic Regression Classification Report:\n",
            "              precision    recall  f1-score   support\n",
            "\n",
            "      action       0.68      0.42      0.52       263\n",
            "       adult       0.96      0.38      0.55       112\n",
            "   adventure       0.71      0.25      0.37       139\n",
            "   animation       0.88      0.20      0.33       104\n",
            "   biography       0.00      0.00      0.00        61\n",
            "      comedy       0.63      0.69      0.66      1443\n",
            "       crime       0.73      0.10      0.18       107\n",
            " documentary       0.73      0.90      0.80      2659\n",
            "       drama       0.61      0.85      0.71      2697\n",
            "      family       0.69      0.17      0.27       150\n",
            "     fantasy       1.00      0.07      0.13        74\n",
            "   game-show       1.00      0.60      0.75        40\n",
            "     history       0.00      0.00      0.00        45\n",
            "      horror       0.73      0.70      0.71       431\n",
            "       music       0.74      0.64      0.69       144\n",
            "     musical       0.75      0.06      0.11        50\n",
            "     mystery       0.83      0.09      0.16        56\n",
            "        news       1.00      0.06      0.11        34\n",
            "  reality-tv       0.73      0.47      0.57       192\n",
            "     romance       0.62      0.05      0.10       151\n",
            "      sci-fi       0.69      0.36      0.48       143\n",
            "       short       0.62      0.45      0.52      1045\n",
            "       sport       0.76      0.42      0.54        93\n",
            "   talk-show       0.77      0.37      0.50        81\n",
            "    thriller       0.63      0.27      0.37       309\n",
            "         war       1.00      0.10      0.18        20\n",
            "     western       0.96      0.81      0.88       200\n",
            "\n",
            "    accuracy                           0.67     10843\n",
            "   macro avg       0.72      0.35      0.41     10843\n",
            "weighted avg       0.68      0.67      0.64     10843\n",
            "\n"
          ]
        },
        {
          "output_type": "stream",
          "name": "stderr",
          "text": [
            "/usr/local/lib/python3.10/dist-packages/sklearn/metrics/_classification.py:1344: UndefinedMetricWarning: Precision and F-score are ill-defined and being set to 0.0 in labels with no predicted samples. Use `zero_division` parameter to control this behavior.\n",
            "  _warn_prf(average, modifier, msg_start, len(result))\n",
            "/usr/local/lib/python3.10/dist-packages/sklearn/metrics/_classification.py:1344: UndefinedMetricWarning: Precision and F-score are ill-defined and being set to 0.0 in labels with no predicted samples. Use `zero_division` parameter to control this behavior.\n",
            "  _warn_prf(average, modifier, msg_start, len(result))\n"
          ]
        }
      ]
    },
    {
      "cell_type": "code",
      "source": [
        "final_predictions_nb = pipeline_nb.predict(df_test['Plot'])\n",
        "final_predictions_lr = pipeline_lr.predict(df_test['Plot'])\n"
      ],
      "metadata": {
        "id": "U_KtpEeaQKLx"
      },
      "execution_count": null,
      "outputs": []
    },
    {
      "cell_type": "code",
      "source": [
        "df_test['Predicted_Genre_NB'] = final_predictions_nb\n",
        "df_test['Predicted_Genre_LR'] = final_predictions_lr"
      ],
      "metadata": {
        "id": "wh2hlMyYUG2G"
      },
      "execution_count": null,
      "outputs": []
    },
    {
      "cell_type": "code",
      "source": [
        "print(\"\\nPredictions for Test Set using Naive Bayes:\")\n",
        "print(df_test[['Index','Plot', 'Predicted_Genre_NB']].head())\n"
      ],
      "metadata": {
        "colab": {
          "base_uri": "https://localhost:8080/"
        },
        "id": "fsiKahhBUKHG",
        "outputId": "93ac1e34-4de3-4a6f-d550-6324bede3305"
      },
      "execution_count": null,
      "outputs": [
        {
          "output_type": "stream",
          "name": "stdout",
          "text": [
            "\n",
            "Predictions for Test Set using Naive Bayes:\n",
            "  Index                                               Plot Predicted_Genre_NB\n",
            "0     1  l.r. brane loves his life - his car, his apart...              drama\n",
            "1     2  spain, march 1964: quico is a very naughty chi...              drama\n",
            "2     3  one year in the life of albin and his family o...        documentary\n",
            "3     4  his father has died, he hasn't spoken with his...              drama\n",
            "4     5  before he was known internationally as a marti...              drama\n"
          ]
        }
      ]
    },
    {
      "cell_type": "code",
      "source": [
        "print(\"\\nPredictions for Test Set using Logistic Regression:\")\n",
        "print(df_test[['Index','Plot', 'Predicted_Genre_LR']].head())"
      ],
      "metadata": {
        "colab": {
          "base_uri": "https://localhost:8080/"
        },
        "id": "Z8sLUQQrUTan",
        "outputId": "f2497d2a-e359-4c4a-99a0-9be499f44bb8"
      },
      "execution_count": null,
      "outputs": [
        {
          "output_type": "stream",
          "name": "stdout",
          "text": [
            "\n",
            "Predictions for Test Set using Logistic Regression:\n",
            "  Index                                               Plot Predicted_Genre_LR\n",
            "0     1  l.r. brane loves his life - his car, his apart...              drama\n",
            "1     2  spain, march 1964: quico is a very naughty chi...              drama\n",
            "2     3  one year in the life of albin and his family o...        documentary\n",
            "3     4  his father has died, he hasn't spoken with his...              drama\n",
            "4     5  before he was known internationally as a marti...              drama\n"
          ]
        }
      ]
    }
  ]
}